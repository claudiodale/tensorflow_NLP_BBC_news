{
  "nbformat": 4,
  "nbformat_minor": 0,
  "metadata": {
    "accelerator": "GPU",
    "colab": {
      "name": "Text_classification_glove_embeddings.ipynb",
      "provenance": [],
      "collapsed_sections": [],
      "toc_visible": true
    },
    "kernelspec": {
      "name": "python3",
      "display_name": "Python 3"
    },
    "language_info": {
      "name": "python"
    }
  },
  "cells": [
    {
      "cell_type": "markdown",
      "metadata": {
        "id": "-v8aHcpUdtKN"
      },
      "source": [
        "**Note:** This notebook can run using TensorFlow 2.5.0"
      ]
    },
    {
      "cell_type": "code",
      "metadata": {
        "id": "FtL554lDdtKO"
      },
      "source": [
        "#!pip install tensorflow==2.5.0"
      ],
      "execution_count": null,
      "outputs": []
    },
    {
      "cell_type": "code",
      "metadata": {
        "id": "hmA6EzkQJ5jt"
      },
      "source": [
        "import json\n",
        "import tensorflow as tf\n",
        "import csv\n",
        "import random\n",
        "import numpy as np\n",
        "\n",
        "from tensorflow.keras.preprocessing.text import Tokenizer\n",
        "from tensorflow.keras.preprocessing.sequence import pad_sequences\n",
        "from tensorflow.keras.utils import to_categorical\n",
        "from tensorflow.keras import regularizers\n",
        "\n",
        "\n",
        "embedding_dim = 100\n",
        "max_length = 16\n",
        "trunc_type='post'\n",
        "padding_type='post'\n",
        "oov_tok = \"<OOV>\"\n",
        "training_size=160000\n",
        "test_portion=.1\n",
        "\n",
        "corpus = []\n"
      ],
      "execution_count": null,
      "outputs": []
    },
    {
      "cell_type": "code",
      "metadata": {
        "id": "bM0l_dORKqE0",
        "outputId": "f74219af-f2cd-4da4-d369-be02cababb7c",
        "colab": {
          "base_uri": "https://localhost:8080/"
        }
      },
      "source": [
        "\n",
        "# training_cleaned.csv\n",
        "!gdown --id 1wd8KaeCSHxt-nEpMeuHFSNWrDp8joUXJ\n",
        "\n",
        "num_sentences = 0\n",
        "\n",
        "with open(\"./training_cleaned.csv\") as csvfile:\n",
        "    reader = csv.reader(csvfile, delimiter=',')\n",
        "    for row in reader:\n",
        "        list_item=[]\n",
        "        \n",
        "        \n",
        "        list_item.append(row[5])\n",
        "        this_label=row[0]\n",
        "        if this_label=='0':\n",
        "            list_item.append(0)\n",
        "        else:\n",
        "            list_item.append(1)\n",
        "        \n",
        "        \n",
        "        num_sentences = num_sentences + 1\n",
        "        corpus.append(list_item)\n"
      ],
      "execution_count": null,
      "outputs": [
        {
          "output_type": "stream",
          "name": "stdout",
          "text": [
            "Downloading...\n",
            "From: https://drive.google.com/uc?id=1wd8KaeCSHxt-nEpMeuHFSNWrDp8joUXJ\n",
            "To: /content/training_cleaned.csv\n",
            "100% 239M/239M [00:01<00:00, 175MB/s]\n"
          ]
        }
      ]
    },
    {
      "cell_type": "code",
      "metadata": {
        "id": "3kxblBUjEUX-",
        "outputId": "d1a44e4e-fa72-4b8c-f5c8-ced624361891",
        "colab": {
          "base_uri": "https://localhost:8080/"
        }
      },
      "source": [
        "print(num_sentences)\n",
        "print(len(corpus))\n",
        "print(corpus[1])\n",
        "\n"
      ],
      "execution_count": null,
      "outputs": [
        {
          "output_type": "stream",
          "name": "stdout",
          "text": [
            "1600000\n",
            "3200000\n",
            "[\"is upset that he can't update his Facebook by texting it... and might cry as a result  School today also. Blah!\", 0]\n"
          ]
        }
      ]
    },
    {
      "cell_type": "code",
      "metadata": {
        "id": "ohOGz24lsNAD"
      },
      "source": [
        "sentences=[]\n",
        "labels=[]\n",
        "random.shuffle(corpus)\n",
        "for x in range(training_size):\n",
        "    sentences.append(corpus[x][0])\n",
        "    labels.append(corpus[x][1])\n",
        "\n",
        "\n",
        "tokenizer = Tokenizer()\n",
        "tokenizer.fit_on_texts(sentences)\n",
        "\n",
        "word_index = tokenizer.word_index\n",
        "vocab_size=len(word_index)\n",
        "\n",
        "sequences = tokenizer.texts_to_sequences(sentences)\n",
        "padded = pad_sequences(sequences, maxlen=max_length, padding=padding_type, truncating=trunc_type)\n",
        "\n",
        "split = int(test_portion * training_size)\n",
        "\n",
        "test_sequences = padded[0:split]\n",
        "training_sequences = padded[split:training_size]\n",
        "test_labels = labels[0:split]\n",
        "training_labels = labels[split:training_size]"
      ],
      "execution_count": null,
      "outputs": []
    },
    {
      "cell_type": "code",
      "metadata": {
        "id": "gIrtRem1En3N",
        "outputId": "17c79313-a999-43b5-9318-f23a2cdf7897",
        "colab": {
          "base_uri": "https://localhost:8080/"
        }
      },
      "source": [
        "print(vocab_size)\n",
        "print(word_index['i'])\n"
      ],
      "execution_count": null,
      "outputs": [
        {
          "output_type": "stream",
          "name": "stdout",
          "text": [
            "136109\n",
            "1\n"
          ]
        }
      ]
    },
    {
      "cell_type": "code",
      "metadata": {
        "id": "C1zdgJkusRh0",
        "outputId": "1f0f3fce-dafd-4578-a39c-896e5b3e7ebf",
        "colab": {
          "base_uri": "https://localhost:8080/"
        }
      },
      "source": [
        "# Note this is the 100 dimension version of GloVe from Stanford\n",
        "\n",
        "# glove.6B.100d.txt\n",
        "!gdown --id 1W5vZy2etitAblLdFn8_DxnsQKzfFJ98g\n",
        "\n",
        "embeddings_index = {};\n",
        "with open('./glove.6B.100d.txt') as f:\n",
        "    for line in f:\n",
        "        values = line.split();\n",
        "        word = values[0];\n",
        "        coefs = np.asarray(values[1:], dtype='float32');\n",
        "        embeddings_index[word] = coefs;\n",
        "\n",
        "embeddings_matrix = np.zeros((vocab_size+1, embedding_dim));\n",
        "for word, i in word_index.items():\n",
        "    embedding_vector = embeddings_index.get(word);\n",
        "    if embedding_vector is not None:\n",
        "        embeddings_matrix[i] = embedding_vector;"
      ],
      "execution_count": null,
      "outputs": [
        {
          "output_type": "stream",
          "name": "stdout",
          "text": [
            "Downloading...\n",
            "From: https://drive.google.com/uc?id=1W5vZy2etitAblLdFn8_DxnsQKzfFJ98g\n",
            "To: /content/glove.6B.100d.txt\n",
            "100% 347M/347M [00:02<00:00, 150MB/s]\n"
          ]
        }
      ]
    },
    {
      "cell_type": "code",
      "metadata": {
        "id": "71NLk_lpFLNt",
        "outputId": "665776f2-21e6-4684-a91c-0b919cad9cf9",
        "colab": {
          "base_uri": "https://localhost:8080/"
        }
      },
      "source": [
        "print(len(embeddings_matrix))\n"
      ],
      "execution_count": null,
      "outputs": [
        {
          "output_type": "stream",
          "name": "stdout",
          "text": [
            "136110\n"
          ]
        }
      ]
    },
    {
      "cell_type": "code",
      "metadata": {
        "id": "iKKvbuEBOGFz",
        "outputId": "efe07aed-f20a-4d82-b8af-b084f6bc9436",
        "colab": {
          "base_uri": "https://localhost:8080/"
        }
      },
      "source": [
        "model = tf.keras.Sequential([\n",
        "    \n",
        "    tf.keras.layers.Embedding(vocab_size+1, embedding_dim, input_length=max_length, weights=[embeddings_matrix], trainable=False),\n",
        "    tf.keras.layers.Dropout(0.2),\n",
        "    tf.keras.layers.Conv1D(64, 5, activation='relu'),\n",
        "    tf.keras.layers.MaxPooling1D(pool_size=4),\n",
        "    tf.keras.layers.LSTM(64),\n",
        "    tf.keras.layers.Dense(1, activation='sigmoid')\n",
        "])\n",
        "model.compile(loss='binary_crossentropy',optimizer='adam',metrics=['accuracy'])\n",
        "model.summary()\n",
        "\n",
        "num_epochs = 50\n",
        "\n",
        "training_padded = np.array(training_sequences)\n",
        "training_labels = np.array(training_labels)\n",
        "testing_padded = np.array(test_sequences)\n",
        "testing_labels = np.array(test_labels)\n",
        "\n",
        "history = model.fit(training_padded, training_labels, epochs=num_epochs, validation_data=(testing_padded, testing_labels), verbose=2)\n",
        "\n",
        "print(\"Training Complete\")"
      ],
      "execution_count": null,
      "outputs": [
        {
          "output_type": "stream",
          "name": "stdout",
          "text": [
            "Model: \"sequential\"\n",
            "_________________________________________________________________\n",
            " Layer (type)                Output Shape              Param #   \n",
            "=================================================================\n",
            " embedding (Embedding)       (None, 16, 100)           13611000  \n",
            "                                                                 \n",
            " dropout (Dropout)           (None, 16, 100)           0         \n",
            "                                                                 \n",
            " conv1d (Conv1D)             (None, 12, 64)            32064     \n",
            "                                                                 \n",
            " max_pooling1d (MaxPooling1D  (None, 3, 64)            0         \n",
            " )                                                               \n",
            "                                                                 \n",
            " lstm (LSTM)                 (None, 64)                33024     \n",
            "                                                                 \n",
            " dense (Dense)               (None, 1)                 65        \n",
            "                                                                 \n",
            "=================================================================\n",
            "Total params: 13,676,153\n",
            "Trainable params: 65,153\n",
            "Non-trainable params: 13,611,000\n",
            "_________________________________________________________________\n",
            "Epoch 1/50\n",
            "4500/4500 - 35s - loss: 0.5682 - accuracy: 0.6993 - val_loss: 0.5303 - val_accuracy: 0.7281 - 35s/epoch - 8ms/step\n",
            "Epoch 2/50\n",
            "4500/4500 - 19s - loss: 0.5267 - accuracy: 0.7320 - val_loss: 0.5231 - val_accuracy: 0.7359 - 19s/epoch - 4ms/step\n",
            "Epoch 3/50\n",
            "4500/4500 - 21s - loss: 0.5104 - accuracy: 0.7447 - val_loss: 0.5133 - val_accuracy: 0.7417 - 21s/epoch - 5ms/step\n",
            "Epoch 4/50\n",
            "4500/4500 - 21s - loss: 0.4998 - accuracy: 0.7511 - val_loss: 0.5159 - val_accuracy: 0.7395 - 21s/epoch - 5ms/step\n",
            "Epoch 5/50\n",
            "4500/4500 - 21s - loss: 0.4908 - accuracy: 0.7577 - val_loss: 0.5004 - val_accuracy: 0.7518 - 21s/epoch - 5ms/step\n",
            "Epoch 6/50\n",
            "4500/4500 - 22s - loss: 0.4816 - accuracy: 0.7650 - val_loss: 0.4992 - val_accuracy: 0.7539 - 22s/epoch - 5ms/step\n",
            "Epoch 7/50\n",
            "4500/4500 - 22s - loss: 0.4767 - accuracy: 0.7683 - val_loss: 0.5047 - val_accuracy: 0.7523 - 22s/epoch - 5ms/step\n",
            "Epoch 8/50\n",
            "4500/4500 - 21s - loss: 0.4708 - accuracy: 0.7712 - val_loss: 0.5017 - val_accuracy: 0.7518 - 21s/epoch - 5ms/step\n",
            "Epoch 9/50\n",
            "4500/4500 - 21s - loss: 0.4665 - accuracy: 0.7740 - val_loss: 0.5013 - val_accuracy: 0.7574 - 21s/epoch - 5ms/step\n",
            "Epoch 10/50\n",
            "4500/4500 - 21s - loss: 0.4612 - accuracy: 0.7787 - val_loss: 0.5128 - val_accuracy: 0.7534 - 21s/epoch - 5ms/step\n",
            "Epoch 11/50\n",
            "4500/4500 - 20s - loss: 0.4583 - accuracy: 0.7783 - val_loss: 0.5018 - val_accuracy: 0.7523 - 20s/epoch - 4ms/step\n",
            "Epoch 12/50\n",
            "4500/4500 - 19s - loss: 0.4564 - accuracy: 0.7794 - val_loss: 0.4996 - val_accuracy: 0.7534 - 19s/epoch - 4ms/step\n",
            "Epoch 13/50\n",
            "4500/4500 - 19s - loss: 0.4528 - accuracy: 0.7818 - val_loss: 0.5022 - val_accuracy: 0.7536 - 19s/epoch - 4ms/step\n",
            "Epoch 14/50\n",
            "4500/4500 - 21s - loss: 0.4499 - accuracy: 0.7832 - val_loss: 0.5079 - val_accuracy: 0.7519 - 21s/epoch - 5ms/step\n",
            "Epoch 15/50\n",
            "4500/4500 - 22s - loss: 0.4473 - accuracy: 0.7859 - val_loss: 0.5051 - val_accuracy: 0.7521 - 22s/epoch - 5ms/step\n",
            "Epoch 16/50\n",
            "4500/4500 - 21s - loss: 0.4446 - accuracy: 0.7868 - val_loss: 0.5160 - val_accuracy: 0.7530 - 21s/epoch - 5ms/step\n",
            "Epoch 17/50\n",
            "4500/4500 - 22s - loss: 0.4438 - accuracy: 0.7870 - val_loss: 0.5072 - val_accuracy: 0.7520 - 22s/epoch - 5ms/step\n",
            "Epoch 18/50\n",
            "4500/4500 - 21s - loss: 0.4426 - accuracy: 0.7897 - val_loss: 0.5117 - val_accuracy: 0.7491 - 21s/epoch - 5ms/step\n",
            "Epoch 19/50\n",
            "4500/4500 - 22s - loss: 0.4410 - accuracy: 0.7888 - val_loss: 0.5134 - val_accuracy: 0.7491 - 22s/epoch - 5ms/step\n",
            "Epoch 20/50\n",
            "4500/4500 - 21s - loss: 0.4387 - accuracy: 0.7905 - val_loss: 0.5073 - val_accuracy: 0.7479 - 21s/epoch - 5ms/step\n",
            "Epoch 21/50\n",
            "4500/4500 - 20s - loss: 0.4372 - accuracy: 0.7920 - val_loss: 0.5144 - val_accuracy: 0.7516 - 20s/epoch - 5ms/step\n",
            "Epoch 22/50\n",
            "4500/4500 - 22s - loss: 0.4381 - accuracy: 0.7915 - val_loss: 0.5111 - val_accuracy: 0.7504 - 22s/epoch - 5ms/step\n",
            "Epoch 23/50\n",
            "4500/4500 - 22s - loss: 0.4354 - accuracy: 0.7931 - val_loss: 0.5090 - val_accuracy: 0.7495 - 22s/epoch - 5ms/step\n",
            "Epoch 24/50\n",
            "4500/4500 - 21s - loss: 0.4349 - accuracy: 0.7932 - val_loss: 0.5153 - val_accuracy: 0.7521 - 21s/epoch - 5ms/step\n",
            "Epoch 25/50\n",
            "4500/4500 - 22s - loss: 0.4346 - accuracy: 0.7930 - val_loss: 0.5187 - val_accuracy: 0.7527 - 22s/epoch - 5ms/step\n",
            "Epoch 26/50\n",
            "4500/4500 - 22s - loss: 0.4337 - accuracy: 0.7943 - val_loss: 0.5129 - val_accuracy: 0.7519 - 22s/epoch - 5ms/step\n",
            "Epoch 27/50\n",
            "4500/4500 - 22s - loss: 0.4321 - accuracy: 0.7946 - val_loss: 0.5161 - val_accuracy: 0.7514 - 22s/epoch - 5ms/step\n",
            "Epoch 28/50\n",
            "4500/4500 - 22s - loss: 0.4308 - accuracy: 0.7947 - val_loss: 0.5185 - val_accuracy: 0.7498 - 22s/epoch - 5ms/step\n",
            "Epoch 29/50\n",
            "4500/4500 - 22s - loss: 0.4300 - accuracy: 0.7959 - val_loss: 0.5178 - val_accuracy: 0.7511 - 22s/epoch - 5ms/step\n",
            "Epoch 30/50\n",
            "4500/4500 - 22s - loss: 0.4307 - accuracy: 0.7960 - val_loss: 0.5195 - val_accuracy: 0.7519 - 22s/epoch - 5ms/step\n",
            "Epoch 31/50\n",
            "4500/4500 - 21s - loss: 0.4299 - accuracy: 0.7963 - val_loss: 0.5153 - val_accuracy: 0.7531 - 21s/epoch - 5ms/step\n",
            "Epoch 32/50\n",
            "4500/4500 - 21s - loss: 0.4285 - accuracy: 0.7972 - val_loss: 0.5123 - val_accuracy: 0.7538 - 21s/epoch - 5ms/step\n",
            "Epoch 33/50\n",
            "4500/4500 - 22s - loss: 0.4294 - accuracy: 0.7961 - val_loss: 0.5188 - val_accuracy: 0.7501 - 22s/epoch - 5ms/step\n",
            "Epoch 34/50\n",
            "4500/4500 - 21s - loss: 0.4279 - accuracy: 0.7975 - val_loss: 0.5217 - val_accuracy: 0.7529 - 21s/epoch - 5ms/step\n",
            "Epoch 35/50\n",
            "4500/4500 - 22s - loss: 0.4290 - accuracy: 0.7960 - val_loss: 0.5177 - val_accuracy: 0.7533 - 22s/epoch - 5ms/step\n",
            "Epoch 36/50\n",
            "4500/4500 - 22s - loss: 0.4290 - accuracy: 0.7977 - val_loss: 0.5188 - val_accuracy: 0.7488 - 22s/epoch - 5ms/step\n",
            "Epoch 37/50\n",
            "4500/4500 - 20s - loss: 0.4283 - accuracy: 0.7966 - val_loss: 0.5176 - val_accuracy: 0.7517 - 20s/epoch - 5ms/step\n",
            "Epoch 38/50\n",
            "4500/4500 - 19s - loss: 0.4265 - accuracy: 0.7970 - val_loss: 0.5182 - val_accuracy: 0.7493 - 19s/epoch - 4ms/step\n",
            "Epoch 39/50\n",
            "4500/4500 - 19s - loss: 0.4262 - accuracy: 0.7985 - val_loss: 0.5214 - val_accuracy: 0.7523 - 19s/epoch - 4ms/step\n",
            "Epoch 40/50\n",
            "4500/4500 - 21s - loss: 0.4262 - accuracy: 0.7975 - val_loss: 0.5180 - val_accuracy: 0.7524 - 21s/epoch - 5ms/step\n",
            "Epoch 41/50\n",
            "4500/4500 - 20s - loss: 0.4250 - accuracy: 0.7984 - val_loss: 0.5232 - val_accuracy: 0.7489 - 20s/epoch - 5ms/step\n",
            "Epoch 42/50\n",
            "4500/4500 - 20s - loss: 0.4242 - accuracy: 0.7991 - val_loss: 0.5203 - val_accuracy: 0.7493 - 20s/epoch - 5ms/step\n",
            "Epoch 43/50\n",
            "4500/4500 - 21s - loss: 0.4242 - accuracy: 0.7986 - val_loss: 0.5230 - val_accuracy: 0.7499 - 21s/epoch - 5ms/step\n",
            "Epoch 44/50\n",
            "4500/4500 - 21s - loss: 0.4241 - accuracy: 0.7995 - val_loss: 0.5201 - val_accuracy: 0.7513 - 21s/epoch - 5ms/step\n",
            "Epoch 45/50\n",
            "4500/4500 - 21s - loss: 0.4239 - accuracy: 0.8011 - val_loss: 0.5197 - val_accuracy: 0.7538 - 21s/epoch - 5ms/step\n",
            "Epoch 46/50\n",
            "4500/4500 - 22s - loss: 0.4245 - accuracy: 0.7998 - val_loss: 0.5163 - val_accuracy: 0.7519 - 22s/epoch - 5ms/step\n",
            "Epoch 47/50\n",
            "4500/4500 - 20s - loss: 0.4226 - accuracy: 0.8005 - val_loss: 0.5124 - val_accuracy: 0.7511 - 20s/epoch - 4ms/step\n",
            "Epoch 48/50\n",
            "4500/4500 - 20s - loss: 0.4231 - accuracy: 0.8001 - val_loss: 0.5146 - val_accuracy: 0.7486 - 20s/epoch - 4ms/step\n",
            "Epoch 49/50\n",
            "4500/4500 - 19s - loss: 0.4225 - accuracy: 0.8003 - val_loss: 0.5254 - val_accuracy: 0.7505 - 19s/epoch - 4ms/step\n",
            "Epoch 50/50\n",
            "4500/4500 - 20s - loss: 0.4235 - accuracy: 0.7997 - val_loss: 0.5228 - val_accuracy: 0.7504 - 20s/epoch - 5ms/step\n",
            "Training Complete\n"
          ]
        }
      ]
    },
    {
      "cell_type": "code",
      "metadata": {
        "id": "qxju4ItJKO8F",
        "outputId": "027b1c30-1d5d-4f9a-8f8c-5998e46f03c5",
        "colab": {
          "base_uri": "https://localhost:8080/",
          "height": 608
        }
      },
      "source": [
        "import matplotlib.image  as mpimg\n",
        "import matplotlib.pyplot as plt\n",
        "\n",
        "#-----------------------------------------------------------\n",
        "# Retrieve a list of list results on training and test data\n",
        "# sets for each training epoch\n",
        "#-----------------------------------------------------------\n",
        "acc=history.history['accuracy']\n",
        "val_acc=history.history['val_accuracy']\n",
        "loss=history.history['loss']\n",
        "val_loss=history.history['val_loss']\n",
        "\n",
        "epochs=range(len(acc)) # Get number of epochs\n",
        "\n",
        "#------------------------------------------------\n",
        "# Plot training and validation accuracy per epoch\n",
        "#------------------------------------------------\n",
        "plt.plot(epochs, acc, 'r')\n",
        "plt.plot(epochs, val_acc, 'b')\n",
        "plt.title('Training and validation accuracy')\n",
        "plt.xlabel(\"Epochs\")\n",
        "plt.ylabel(\"Accuracy\")\n",
        "plt.legend([\"Accuracy\", \"Validation Accuracy\"])\n",
        "\n",
        "plt.figure()\n",
        "\n",
        "#------------------------------------------------\n",
        "# Plot training and validation loss per epoch\n",
        "#------------------------------------------------\n",
        "plt.plot(epochs, loss, 'r')\n",
        "plt.plot(epochs, val_loss, 'b')\n",
        "plt.title('Training and validation loss')\n",
        "plt.xlabel(\"Epochs\")\n",
        "plt.ylabel(\"Loss\")\n",
        "plt.legend([\"Loss\", \"Validation Loss\"])\n",
        "\n",
        "plt.figure()\n",
        "\n"
      ],
      "execution_count": null,
      "outputs": [
        {
          "output_type": "execute_result",
          "data": {
            "text/plain": [
              "<Figure size 432x288 with 0 Axes>"
            ]
          },
          "metadata": {},
          "execution_count": 10
        },
        {
          "output_type": "display_data",
          "data": {
            "image/png": "[encoded data removed]",
            "text/plain": [
              "<Figure size 432x288 with 1 Axes>"
            ]
          },
          "metadata": {
            "needs_background": "light"
          }
        },
        {
          "output_type": "display_data",
          "data": {
            "image/png": "[encoded data removed]",
            "text/plain": [
              "<Figure size 432x288 with 1 Axes>"
            ]
          },
          "metadata": {
            "needs_background": "light"
          }
        },
        {
          "output_type": "display_data",
          "data": {
            "text/plain": [
              "<Figure size 432x288 with 0 Axes>"
            ]
          },
          "metadata": {}
        }
      ]
    }
  ]
}